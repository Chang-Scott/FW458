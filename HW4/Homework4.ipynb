{
  "nbformat": 4,
  "nbformat_minor": 0,
  "metadata": {
    "colab": {
      "provenance": []
    },
    "kernelspec": {
      "name": "python3",
      "display_name": "Python 3"
    },
    "language_info": {
      "name": "python"
    }
  },
  "cells": [
    {
      "cell_type": "code",
      "execution_count": 16,
      "metadata": {
        "colab": {
          "base_uri": "https://localhost:8080/"
        },
        "id": "DDBOmMgeM6ji",
        "outputId": "bbf8452c-9c2b-4000-ad4e-efcd63f6c0df"
      },
      "outputs": [
        {
          "output_type": "stream",
          "name": "stdout",
          "text": [
            "Drive already mounted at /content/drive; to attempt to forcibly remount, call drive.mount(\"/content/drive\", force_remount=True).\n",
            "   TIMESTAMP    TA_F  SW_IN_F  VPD_F  GPP_NT_VUT_REF\n",
            "0   19990101 -20.063   72.603  0.413       -0.517364\n",
            "1   19990102 -12.814   12.358  0.147       -0.094241\n",
            "2   19990103 -12.625   33.132  0.128       -0.166819\n",
            "3   19990104 -18.652   93.481  0.263       -0.582301\n",
            "4   19990105 -20.269   45.502  0.261       -0.568240\n"
          ]
        }
      ],
      "source": [
        "# Import drive, numpy, and pandas packages that we need\n",
        "from google.colab import drive\n",
        "import numpy as np\n",
        "import pandas as pd\n",
        "# Mount our drive and the directory to where I keep my FW458 files\n",
        "drive.mount('/content/drive')\n",
        "filedir = '/content/drive/MyDrive/FW458/'\n",
        "filename = filedir + \"Wcr_GPPdaily.csv\"\n",
        "# Read CSV file\n",
        "DF = pd.read_csv(filename)\n",
        "# Display first few rows\n",
        "print(DF.head())"
      ]
    },
    {
      "cell_type": "code",
      "source": [
        "# Data preprocessing\n",
        "# Rename columns\n",
        "DF.rename(columns={'TA_F': 'TA', 'SW_IN_F': 'SW', 'VPD_F': 'VPD', 'GPP_NT_VUT_REF': 'GPP'}, inplace=True)\n",
        "# Drop TIMESTAMP column\n",
        "DF.drop(columns=['TIMESTAMP'], inplace=True)\n",
        "# Drop rows with any missing values to ensure data consistency\n",
        "DF.dropna(inplace=True)\n",
        "print(DF.head())\n",
        "print('Interestingly, none of rows have any missing values so dataframe has stayed the same size')"
      ],
      "metadata": {
        "colab": {
          "base_uri": "https://localhost:8080/"
        },
        "id": "bFYwXoONNk1D",
        "outputId": "de36647d-2cc1-43c3-ff5d-3d19de8eabdd"
      },
      "execution_count": 17,
      "outputs": [
        {
          "output_type": "stream",
          "name": "stdout",
          "text": [
            "       TA      SW    VPD       GPP\n",
            "0 -20.063  72.603  0.413 -0.517364\n",
            "1 -12.814  12.358  0.147 -0.094241\n",
            "2 -12.625  33.132  0.128 -0.166819\n",
            "3 -18.652  93.481  0.263 -0.582301\n",
            "4 -20.269  45.502  0.261 -0.568240\n",
            "Interestingly, none of rows have any missing values so dataframe has stayed the same size\n"
          ]
        }
      ]
    },
    {
      "cell_type": "code",
      "source": [
        "# Create interaction terms\n",
        "DF['SW_VPD'] = DF['SW'] * DF['VPD']\n",
        "DF['SW_TA'] = DF['SW'] * DF['TA']\n",
        "DF['VPD_TA'] = DF['VPD'] * DF['TA']\n",
        "print(DF.head())"
      ],
      "metadata": {
        "colab": {
          "base_uri": "https://localhost:8080/"
        },
        "id": "nMJPRnVciNj-",
        "outputId": "9eb25dfc-bdda-4dc7-99f9-55837cb4951d"
      },
      "execution_count": 18,
      "outputs": [
        {
          "output_type": "stream",
          "name": "stdout",
          "text": [
            "       TA      SW    VPD       GPP     SW_VPD        SW_TA    VPD_TA\n",
            "0 -20.063  72.603  0.413 -0.517364  29.985039 -1456.633989 -8.286019\n",
            "1 -12.814  12.358  0.147 -0.094241   1.816626  -158.355412 -1.883658\n",
            "2 -12.625  33.132  0.128 -0.166819   4.240896  -418.291500 -1.616000\n",
            "3 -18.652  93.481  0.263 -0.582301  24.585503 -1743.607612 -4.905476\n",
            "4 -20.269  45.502  0.261 -0.568240  11.876022  -922.280038 -5.290209\n"
          ]
        }
      ]
    },
    {
      "cell_type": "code",
      "source": [
        "# Import scipy's minimize function\n",
        "from scipy.optimize import minimize\n",
        "\n",
        "# Define the linear model equation to be minimized: GPP=β0​+β1​⋅SW+β2​⋅VPD+β3​⋅TA+β4​⋅(SW×VPD)+β5​⋅(SW×TA)+β6​⋅(VPD×TA)\n",
        "def costfunc(params, SW, VPD, TA, SW_VPD, SW_TA, VPD_TA, GPP):\n",
        "    B0, B1, B2, B3, B4, B5, B6 = params\n",
        "\n",
        "    GPPpred = B0 + B1*SW + B2*VPD + B3*TA + B4*SW_VPD + B5*SW_TA + B6*VPD_TA\n",
        "\n",
        "    # use MSE as cost function\n",
        "    return (np.mean((GPPpred - GPP)**2))\n",
        "# Define variables that hold each column\n",
        "SW = DF['SW'].values\n",
        "VPD = DF['VPD'].values\n",
        "TA = DF['TA'].values\n",
        "SW_VPD = DF['SW_VPD'].values\n",
        "SW_TA = DF['SW_TA'].values\n",
        "VPD_TA = DF['VPD_TA'].values\n",
        "GPP = DF['GPP'].values\n",
        "# Make initial guesses of Beta coefficients\n",
        "guess = [10, 10, 10, 10, 10, 10, 10]\n",
        "# Run scipy's minimization function on our cost function of MSE for the linear model\n",
        "mymin = minimize(costfunc, guess, args=(SW, VPD, TA, SW_VPD, SW_TA, VPD_TA, GPP))\n",
        "# Get the optimized parameters\n",
        "B0, B1, B2, B3, B4, B5, B6 = mymin.x\n",
        "# Print each optimized parameter\n",
        "print('B0 =', B0)\n",
        "print('B1 =', B1)\n",
        "print('B2 =', B2)\n",
        "print('B3 =', B3)\n",
        "print('B4 =' , B4)\n",
        "print('B5 =', B5)\n",
        "print('B6 =', B6)"
      ],
      "metadata": {
        "colab": {
          "base_uri": "https://localhost:8080/"
        },
        "id": "IWiVP0kZOQ26",
        "outputId": "525f97a1-d5d7-4626-a327-2db38feb2cf9"
      },
      "execution_count": 19,
      "outputs": [
        {
          "output_type": "stream",
          "name": "stdout",
          "text": [
            "B0 = -944.2399476092163\n",
            "B1 = -3.24799110445965\n",
            "B2 = -648.5364837803058\n",
            "B3 = 82.16771903366768\n",
            "B4 = 1.7922540924246166\n",
            "B5 = -0.45606529845713484\n",
            "B6 = 13.59672262795932\n"
          ]
        }
      ]
    },
    {
      "cell_type": "code",
      "source": [
        "from sklearn.linear_model import LinearRegression\n",
        "# Define Independent (X) and Dependent (y) Variables z\n",
        "X = DF[['SW', 'VPD', 'TA', 'SW_VPD', 'VPD_TA', 'SW_TA']] # X variable has SW, VPD, TA, SW_VPD, VPD_TA, SW_TA\n",
        "y = DF['GPP'] # Y variable is GPP\n",
        "# Fit the model\n",
        "model = LinearRegression()\n",
        "model.fit(X, y)\n",
        "# Print coefficient and intercepts\n",
        "print(\"Coefficients:\", model.coef_)  # Slopes for each feature\n",
        "print(\"Intercept:\", model.intercept_)  # Bias term"
      ],
      "metadata": {
        "colab": {
          "base_uri": "https://localhost:8080/"
        },
        "id": "Ckk487LwSAty",
        "outputId": "e8eb6e3c-38ee-4048-dd7b-35d66ce444a1"
      },
      "execution_count": 22,
      "outputs": [
        {
          "output_type": "stream",
          "name": "stdout",
          "text": [
            "Coefficients: [-3.24914968e+00 -6.48574173e+02  8.21699813e+01  1.79249151e+00\n",
            "  1.35954025e+01 -4.56050357e-01]\n",
            "Intercept: -944.0672018206467\n"
          ]
        }
      ]
    },
    {
      "cell_type": "code",
      "source": [
        "# Computer r-squared\n",
        "# To do this, I will use the formula r^2 = 1 - residual sum of squares / total sum of squares\n",
        "# FIrst I will do this for the scipy function\n",
        "# Predict GPP using optimized parameters\n",
        "GPPpred = (B0 + B1*SW + B2*VPD + B3*TA + B4*SW*VPD + B5*SW*TA + B6*VPD*TA)\n",
        "SS_res = np.sum((GPP - GPPpred)**2)\n",
        "SS_tot = np.sum((GPP - np.mean(GPP))**2)\n",
        "\n",
        "R2_scipy = 1 - (SS_res / SS_tot)\n",
        "\n",
        "# Now I will get R_squared of the sklearn model by using its model.score function\n",
        "# Compute R_squarted\n",
        "R2_sklearn = model.score(X, y)\n",
        "\n",
        "print(\"R-squared of scipy model =\", R2_scipy)\n",
        "print(\"R-squared of sklearn model =\", R2_sklearn)\n",
        "print(\"As can be seen, the R-squared are pratically identical (except for numerical errors), which is as expected since they are both identical models, just different functions\")"
      ],
      "metadata": {
        "colab": {
          "base_uri": "https://localhost:8080/"
        },
        "id": "HimFWbL8S7Kp",
        "outputId": "0b5b2a23-cd69-4716-d573-199cb6e7be5a"
      },
      "execution_count": 24,
      "outputs": [
        {
          "output_type": "stream",
          "name": "stdout",
          "text": [
            "R-squared of scipy model = 0.013582700652710278\n",
            "R-squared of sklearn model = 0.01358270093325531\n",
            "As can be seen, the R-squared are pratically identical (except for numerical errors), which is as expected since they are both identical models, just different functions\n"
          ]
        }
      ]
    }
  ]
}