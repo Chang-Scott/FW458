{
  "nbformat": 4,
  "nbformat_minor": 0,
  "metadata": {
    "colab": {
      "provenance": [],
      "authorship_tag": "ABX9TyP96U3mQDtDehP53ewcT0gv",
      "include_colab_link": true
    },
    "kernelspec": {
      "name": "python3",
      "display_name": "Python 3"
    },
    "language_info": {
      "name": "python"
    }
  },
  "cells": [
    {
      "cell_type": "markdown",
      "metadata": {
        "id": "view-in-github",
        "colab_type": "text"
      },
      "source": [
        "<a href=\"https://colab.research.google.com/github/Chang-Scott/FW458/blob/main/Homework2_Chang.ipynb\" target=\"_parent\"><img src=\"https://colab.research.google.com/assets/colab-badge.svg\" alt=\"Open In Colab\"/></a>"
      ]
    },
    {
      "cell_type": "code",
      "source": [
        "# GENERATE 50 LIST OF RANDOM NUMBERS BETWEEN 1 AND 100\n",
        "import random # Import python's randompackage\n",
        "\n",
        "def generate_random_list(size):\n",
        "  list_random = [] # Define list that will hold numbers\n",
        "  # Use for loop to go through 50 times\n",
        "  for i in range(50):\n",
        "    # Append random integer between 1 to 100 (inclusive) to list\n",
        "    list_random.append(random.randint(1, 100))\n",
        "  # Return list\n",
        "  return list_random\n",
        "\n"
      ],
      "metadata": {
        "id": "fiurbfx0jaNg"
      },
      "execution_count": 11,
      "outputs": []
    },
    {
      "cell_type": "code",
      "execution_count": 12,
      "metadata": {
        "colab": {
          "base_uri": "https://localhost:8080/"
        },
        "id": "lrGFckAQjKA1",
        "outputId": "c2dbde57-80be-4475-8371-2c9b621e4b49"
      },
      "outputs": [
        {
          "output_type": "stream",
          "name": "stdout",
          "text": [
            "[60, 10, 82, 48, 43, 95, 69, 84, 64, 8, 41, 74, 13, 9, 90, 58, 37, 67, 31, 38, 91, 20, 91, 51, 63, 27, 25, 48, 70, 42, 89, 33, 1, 83, 28, 92, 9, 67, 51, 95, 13, 2, 92, 78, 94, 96, 15, 18, 44, 94]\n",
            "[1, 2, 8, 9, 9, 10, 13, 13, 15, 18, 20, 25, 27, 28, 31, 33, 37, 38, 41, 42, 43, 44, 48, 48, 51, 51, 58, 60, 63, 64, 67, 67, 69, 70, 74, 78, 82, 83, 84, 89, 90, 91, 91, 92, 92, 94, 94, 95, 95, 96]\n"
          ]
        }
      ],
      "source": [
        "list_random = generate_random_list(50) # Generate random list of size 50\n",
        "\n",
        "# BUBBLE SORT which 'repeatedly swapping the adjacent elements if they are in the wrong order' (GeeksforGeeks description)\n",
        "def bubble_sort(list):\n",
        "  list_size = len(list) # Get size of list\n",
        "  # Go through each position in list size\n",
        "  for i in range(list_size):\n",
        "    swapped = False  # Define boolean variable that tracks if we have swapped between two elements\n",
        "    # Use nested for loop that goes from first item to list_size-i-1 item\n",
        "    for j in range(0, list_size - i - 1):\n",
        "        if list[j] > list[j + 1]:  # Check if int at index j is greater than j+1\n",
        "          # If so, then switch values (GIVES ASCENDING ORDER)\n",
        "          temp_value = list[j]\n",
        "          list[j] = list[j + 1]\n",
        "          list[j + 1] = temp_value\n",
        "          swapped = True  # Mark that a swap occurred\n",
        "    if not swapped:  # If no swaps, the list is already sorted\n",
        "        break\n",
        "\n",
        "print(list_random) # Print list before sorting\n",
        "bubble_sort(list_random) # Sort list\n",
        "print(list_random) # Print list after sorting"
      ]
    },
    {
      "cell_type": "code",
      "source": [
        "list_random = generate_random_list(50) # Generate random list of size 50\n",
        "\n",
        "# INSERTION SORT which 'iteratively inserting each element of an unsorted list into its correct position in a sorted portion of the list' (GeekforGeeks description)\n",
        "def insertion_sort(list):\n",
        "  list_size = len(list) # Get size of list\n",
        "  # Go through each position in list starting at index 1\n",
        "  for i in range(1, list_size):\n",
        "      key = list[i]  # Get value of element at index i\n",
        "      j = i - 1 # Get the index at i-1, which we start at for sorting\n",
        "      # As long as we are within bounds of list (>=0) and the key is smaller than the list element at index j, then we should keep shifting elements\n",
        "      # This is basically shifting all elements greater than list[i] to right of it, thus sorting in ascending order\n",
        "      while j >= 0 and list[j] > key:\n",
        "          list[j + 1] = list[j]  # Shift element to the right\n",
        "          j -= 1 # Decrement index j so we check the previous index\n",
        "      # Once we have fully sorted in ascending order at index i and below, then we put key at index j+1, since this is its proper position\n",
        "      list[j + 1] = key  # Insert key at the correct position\n",
        "\n",
        "print(list_random) # Print list before sorting\n",
        "insertion_sort(list_random) # Sort list\n",
        "print(list_random) # Print list after sorting"
      ],
      "metadata": {
        "colab": {
          "base_uri": "https://localhost:8080/"
        },
        "id": "wijSE7Qklffz",
        "outputId": "2febb71e-b653-4b42-ccde-b7ad9ca30fc0"
      },
      "execution_count": 14,
      "outputs": [
        {
          "output_type": "stream",
          "name": "stdout",
          "text": [
            "[95, 38, 27, 9, 81, 21, 62, 71, 50, 86, 15, 13, 91, 28, 69, 71, 22, 18, 45, 68, 79, 52, 61, 6, 31, 23, 41, 100, 14, 62, 30, 85, 71, 13, 70, 78, 17, 42, 27, 20, 68, 24, 9, 21, 79, 16, 32, 18, 17, 60]\n",
            "[6, 9, 9, 13, 13, 14, 15, 16, 17, 17, 18, 18, 20, 21, 21, 22, 23, 24, 27, 27, 28, 30, 31, 32, 38, 41, 42, 45, 50, 52, 60, 61, 62, 62, 68, 68, 69, 70, 71, 71, 71, 78, 79, 79, 81, 85, 86, 91, 95, 100]\n"
          ]
        }
      ]
    }
  ]
}