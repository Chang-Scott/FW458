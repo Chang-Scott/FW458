{
 "cells": [
  {
   "cell_type": "code",
   "execution_count": 1,
   "metadata": {
    "colab": {
     "base_uri": "https://localhost:8080/"
    },
    "id": "FGG3B4honLk_",
    "outputId": "e938957b-cd06-4371-fd36-43fc16b908ee"
   },
   "outputs": [
    {
     "name": "stdout",
     "output_type": "stream",
     "text": [
      "     Year  Month  Decimal_date  Monthly_average  deseasonalized  numofdays  \\\n",
      "0    1958      3     1958.2027           315.70          314.43         -1   \n",
      "1    1958      4     1958.2877           317.45          315.16         -1   \n",
      "2    1958      5     1958.3699           317.51          314.71         -1   \n",
      "3    1958      6     1958.4548           317.24          315.14         -1   \n",
      "4    1958      7     1958.5370           315.86          315.18         -1   \n",
      "..    ...    ...           ...              ...             ...        ...   \n",
      "762  2021      9     2021.7083           413.30          416.90         27   \n",
      "763  2021     10     2021.7917           413.93          417.30         29   \n",
      "764  2021     11     2021.8750           415.01          417.07         30   \n",
      "765  2021     12     2021.9583           416.71          417.44         28   \n",
      "766  2022      1     2022.0417           418.19          417.87         29   \n",
      "\n",
      "     stdofdays      site  \n",
      "0        -9.99  MaunaLoa  \n",
      "1        -9.99  MaunaLoa  \n",
      "2        -9.99  MaunaLoa  \n",
      "3        -9.99  MaunaLoa  \n",
      "4        -9.99  MaunaLoa  \n",
      "..         ...       ...  \n",
      "762       0.29  MaunaLoa  \n",
      "763       0.35  MaunaLoa  \n",
      "764       0.36  MaunaLoa  \n",
      "765       0.48  MaunaLoa  \n",
      "766       0.75  MaunaLoa  \n",
      "\n",
      "[767 rows x 8 columns]\n"
     ]
    }
   ],
   "source": [
    "# Import numpy and pandas packages that we need\n",
    "import numpy as np\n",
    "import pandas as pd\n",
    "# Get directory to where I keep my FW458 files\n",
    "filedir = '/Users/Changster101/Desktop/School/2025_Spring/FW458/HW3/'\n",
    "filename = filedir + 'MaunaLoaCO2_monthly_sitename.csv'\n",
    "# Read CSV file\n",
    "DF = pd.read_csv(filename)\n",
    "# Display first few rows\n",
    "print(DF)"
   ]
  },
  {
   "cell_type": "code",
   "execution_count": 2,
   "metadata": {
    "colab": {
     "base_uri": "https://localhost:8080/"
    },
    "id": "Xk3lo1eEsm7A",
    "outputId": "9a76a5d5-e252-46e4-e8ec-5e17fe62353d"
   },
   "outputs": [
    {
     "name": "stdout",
     "output_type": "stream",
     "text": [
      "     Year  Month  Decimal_date  Monthly_average  deseasonalized  numofdays  \\\n",
      "194  1974      5     1974.3750           333.19          330.22         13   \n",
      "195  1974      6     1974.4583           332.20          329.78         25   \n",
      "196  1974      7     1974.5417           331.07          330.21         24   \n",
      "197  1974      8     1974.6250           329.15          330.54         26   \n",
      "198  1974      9     1974.7083           327.33          330.44         22   \n",
      "..    ...    ...           ...              ...             ...        ...   \n",
      "761  2021      8     2021.6250           414.47          416.49         26   \n",
      "762  2021      9     2021.7083           413.30          416.90         27   \n",
      "763  2021     10     2021.7917           413.93          417.30         29   \n",
      "764  2021     11     2021.8750           415.01          417.07         30   \n",
      "765  2021     12     2021.9583           416.71          417.44         28   \n",
      "\n",
      "     stdofdays      site  \n",
      "194       0.31  MaunaLoa  \n",
      "195       0.37  MaunaLoa  \n",
      "196       0.24  MaunaLoa  \n",
      "197       0.31  MaunaLoa  \n",
      "198       0.47  MaunaLoa  \n",
      "..         ...       ...  \n",
      "761       0.72  MaunaLoa  \n",
      "762       0.29  MaunaLoa  \n",
      "763       0.35  MaunaLoa  \n",
      "764       0.36  MaunaLoa  \n",
      "765       0.48  MaunaLoa  \n",
      "\n",
      "[570 rows x 8 columns]\n"
     ]
    }
   ],
   "source": [
    "DF_years_filtered = DF.loc[(DF[\"Year\"] != 1958) & (DF[\"Year\"] != 2022)] # Filter dataframe to all those whose year is not 1958 and not 2022\n",
    "DF_filtered = DF_years_filtered .loc[(DF_years_filtered ['numofdays'] >= 0) & (DF_years_filtered['stdofdays'] >= 0)] # Filter whose numofdays is >= 0 and stdofdays is >= 0\n",
    "print(DF_filtered) # Print filtered dataframe"
   ]
  },
  {
   "cell_type": "code",
   "execution_count": 3,
   "metadata": {
    "colab": {
     "base_uri": "https://localhost:8080/"
    },
    "id": "49e4S0Vk3ZUe",
    "outputId": "d639fedb-de9d-4998-d963-0dccb37708a1"
   },
   "outputs": [
    {
     "name": "stdout",
     "output_type": "stream",
     "text": [
      "      annual_average  deseasonalized_annual_average  std_of_months\n",
      "Year                                                              \n",
      "1974      329.763750                     330.346250       2.203789\n",
      "1975      331.160909                     331.072727       1.943751\n",
      "1976      332.026667                     332.028333       2.085610\n",
      "1977      333.843333                     333.841667       1.931882\n",
      "1978      335.415000                     335.413333       1.995014\n",
      "1979      336.835833                     336.835833       1.837639\n",
      "1980      338.762500                     338.765000       1.871271\n",
      "1981      340.119167                     340.120000       2.105989\n",
      "1982      341.479167                     341.476667       2.151386\n",
      "1983      343.152500                     343.152500       1.936093\n",
      "1984      344.639091                     344.874545       1.963520\n",
      "1985      346.351667                     346.350833       1.996983\n",
      "1986      347.608333                     347.608333       1.834358\n",
      "1987      349.312500                     349.313333       1.800430\n",
      "1988      351.690833                     351.690833       1.780860\n",
      "1989      353.205000                     353.205000       1.978569\n",
      "1990      354.453333                     354.451667       1.892379\n",
      "1991      355.704167                     355.703333       2.343313\n",
      "1992      356.544167                     356.545833       2.304432\n",
      "1993      357.215833                     357.214167       2.033597\n",
      "1994      358.959167                     358.960000       1.916656\n",
      "1995      360.968333                     360.966667       1.953672\n",
      "1996      362.743333                     362.743333       1.960669\n",
      "1997      363.877500                     363.876667       2.008578\n",
      "1998      366.840000                     366.839167       1.790520\n",
      "1999      368.540000                     368.540833       2.080350\n",
      "2000      369.706667                     369.707500       1.695434\n",
      "2001      371.319167                     371.318333       1.893772\n",
      "2002      373.452500                     373.452500       1.735407\n",
      "2003      375.983333                     375.983333       1.840836\n",
      "2004      377.698333                     377.697500       2.110062\n",
      "2005      379.983333                     379.982500       1.987915\n",
      "2006      382.090833                     382.089167       2.027064\n",
      "2007      384.025000                     384.024167       1.958587\n",
      "2008      385.830833                     385.830000       1.745209\n",
      "2009      387.643333                     387.643333       1.876643\n",
      "2010      390.101667                     390.101667       2.027290\n",
      "2011      391.850833                     391.850833       1.737958\n",
      "2012      394.055833                     394.055833       1.823775\n",
      "2013      396.737500                     396.738333       1.956231\n",
      "2014      398.870833                     398.870000       2.062093\n",
      "2015      401.012500                     401.012500       1.967907\n",
      "2016      404.412500                     404.414167       2.208719\n",
      "2017      406.757500                     406.757500       2.030943\n",
      "2018      408.715000                     408.715000       1.787718\n",
      "2019      411.654167                     411.655833       1.940963\n",
      "2020      414.238333                     414.235833       1.880947\n",
      "2021      416.450833                     416.450000       2.025027\n"
     ]
    }
   ],
   "source": [
    "DF_yearly = DF_filtered.groupby('Year').agg( # Group by year and use agg function that allows us to apply multiple summary functions\n",
    "    annual_average=('Monthly_average', 'mean'), # Calculate mean of monthly_average column and save new column as annual_average\n",
    "    deseasonalized_annual_average=('deseasonalized', 'mean'), # Calculate mean of deseasonalized column and save new column as deseasonalized_annual_average\n",
    "    std_of_months=('Monthly_average', 'std')) # Calculate std of monthly_average column and save new column as std_of_months\n",
    "print(DF_yearly)"
   ]
  },
  {
   "cell_type": "code",
   "execution_count": 36,
   "metadata": {
    "colab": {
     "base_uri": "https://localhost:8080/"
    },
    "id": "Y2JQrdVM5lns",
    "outputId": "b78955c2-108b-435d-b973-0b1581046e93"
   },
   "outputs": [
    {
     "name": "stdout",
     "output_type": "stream",
     "text": [
      "      annual_average  deseasonalized_annual_average  std_of_months  \\\n",
      "Year                                                                 \n",
      "1974      329.763750                     330.346250       2.203789   \n",
      "1975      331.160909                     331.072727       1.943751   \n",
      "1976      332.026667                     332.028333       2.085610   \n",
      "1977      333.843333                     333.841667       1.931882   \n",
      "1978      335.415000                     335.413333       1.995014   \n",
      "1979      336.835833                     336.835833       1.837639   \n",
      "1980      338.762500                     338.765000       1.871271   \n",
      "1981      340.119167                     340.120000       2.105989   \n",
      "1982      341.479167                     341.476667       2.151386   \n",
      "1983      343.152500                     343.152500       1.936093   \n",
      "1984      344.639091                     344.874545       1.963520   \n",
      "1985      346.351667                     346.350833       1.996983   \n",
      "1986      347.608333                     347.608333       1.834358   \n",
      "1987      349.312500                     349.313333       1.800430   \n",
      "1988      351.690833                     351.690833       1.780860   \n",
      "1989      353.205000                     353.205000       1.978569   \n",
      "1990      354.453333                     354.451667       1.892379   \n",
      "1991      355.704167                     355.703333       2.343313   \n",
      "1992      356.544167                     356.545833       2.304432   \n",
      "1993      357.215833                     357.214167       2.033597   \n",
      "1994      358.959167                     358.960000       1.916656   \n",
      "1995      360.968333                     360.966667       1.953672   \n",
      "1996      362.743333                     362.743333       1.960669   \n",
      "1997      363.877500                     363.876667       2.008578   \n",
      "1998      366.840000                     366.839167       1.790520   \n",
      "1999      368.540000                     368.540833       2.080350   \n",
      "2000      369.706667                     369.707500       1.695434   \n",
      "2001      371.319167                     371.318333       1.893772   \n",
      "2002      373.452500                     373.452500       1.735407   \n",
      "2003      375.983333                     375.983333       1.840836   \n",
      "2004      377.698333                     377.697500       2.110062   \n",
      "2005      379.983333                     379.982500       1.987915   \n",
      "2006      382.090833                     382.089167       2.027064   \n",
      "2007      384.025000                     384.024167       1.958587   \n",
      "2008      385.830833                     385.830000       1.745209   \n",
      "2009      387.643333                     387.643333       1.876643   \n",
      "2010      390.101667                     390.101667       2.027290   \n",
      "2011      391.850833                     391.850833       1.737958   \n",
      "2012      394.055833                     394.055833       1.823775   \n",
      "2013      396.737500                     396.738333       1.956231   \n",
      "2014      398.870833                     398.870000       2.062093   \n",
      "2015      401.012500                     401.012500       1.967907   \n",
      "2016      404.412500                     404.414167       2.208719   \n",
      "2017      406.757500                     406.757500       2.030943   \n",
      "2018      408.715000                     408.715000       1.787718   \n",
      "2019      411.654167                     411.655833       1.940963   \n",
      "2020      414.238333                     414.235833       1.880947   \n",
      "2021      416.450833                     416.450000       2.025027   \n",
      "\n",
      "     CO2_Category  \n",
      "Year               \n",
      "1974          Low  \n",
      "1975          Low  \n",
      "1976          Low  \n",
      "1977          Low  \n",
      "1978          Low  \n",
      "1979          Low  \n",
      "1980          Low  \n",
      "1981          Low  \n",
      "1982          Low  \n",
      "1983          Low  \n",
      "1984          Low  \n",
      "1985          Low  \n",
      "1986          Low  \n",
      "1987          Low  \n",
      "1988       Medium  \n",
      "1989       Medium  \n",
      "1990       Medium  \n",
      "1991       Medium  \n",
      "1992       Medium  \n",
      "1993       Medium  \n",
      "1994       Medium  \n",
      "1995       Medium  \n",
      "1996       Medium  \n",
      "1997       Medium  \n",
      "1998       Medium  \n",
      "1999       Medium  \n",
      "2000       Medium  \n",
      "2001       Medium  \n",
      "2002       Medium  \n",
      "2003       Medium  \n",
      "2004       Medium  \n",
      "2005       Medium  \n",
      "2006       Medium  \n",
      "2007       Medium  \n",
      "2008       Medium  \n",
      "2009       Medium  \n",
      "2010       Medium  \n",
      "2011       Medium  \n",
      "2012       Medium  \n",
      "2013       Medium  \n",
      "2014       Medium  \n",
      "2015         High  \n",
      "2016         High  \n",
      "2017         High  \n",
      "2018         High  \n",
      "2019         High  \n",
      "2020         High  \n",
      "2021         High  \n"
     ]
    }
   ],
   "source": [
    "\"\"\" Function that categorizes Monthly_average by low medium and high\"\"\"\n",
    "def categorize_co2(value): # Takes in value parameter\n",
    "    if value < 350:\n",
    "        return 'Low' # If below 350, then categorize as low\n",
    "    elif value <= 400:\n",
    "        return 'Medium' # If between 350 and 400, then categorize as medium\n",
    "    else:\n",
    "        return 'High' # If above 400, then categorize as high\n",
    "\n",
    "# Apply the function using the apply function to create a new categorical column called 'CO2_Category'\n",
    "DF_yearly['CO2_Category'] = DF_yearly['annual_average'].apply(categorize_co2)\n",
    "\n",
    "print(DF_yearly)"
   ]
  },
  {
   "cell_type": "code",
   "execution_count": 4,
   "metadata": {
    "id": "DAu0saYM78PT"
   },
   "outputs": [],
   "source": [
    "DF_yearly.to_csv('/Users/Changster101/Desktop/School/2025_Spring/FW458/HW3/Chang_MaunaLoaCO2_annual_Hw3.csv', index=True)"
   ]
  },
  {
   "cell_type": "code",
   "execution_count": null,
   "metadata": {},
   "outputs": [],
   "source": []
  }
 ],
 "metadata": {
  "colab": {
   "provenance": []
  },
  "kernelspec": {
   "display_name": "PlanetProfile",
   "language": "python",
   "name": "planetprofile"
  },
  "language_info": {
   "codemirror_mode": {
    "name": "ipython",
    "version": 3
   },
   "file_extension": ".py",
   "mimetype": "text/x-python",
   "name": "python",
   "nbconvert_exporter": "python",
   "pygments_lexer": "ipython3",
   "version": "3.11.8"
  }
 },
 "nbformat": 4,
 "nbformat_minor": 4
}
